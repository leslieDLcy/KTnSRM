{
 "cells": [
  {
   "cell_type": "markdown",
   "id": "87ecaa9f-5d35-4a38-9a21-008b42f64243",
   "metadata": {},
   "source": [
    "# A step-by-step implementation of KT model"
   ]
  },
  {
   "cell_type": "markdown",
   "id": "a6d04df6-2716-4789-9fcd-d66c175acf17",
   "metadata": {},
   "source": [
    "### For creating KT and KT nonstaionary spectra"
   ]
  },
  {
   "cell_type": "code",
   "execution_count": null,
   "id": "6cd820bb-50ae-4801-8ce3-587a6b55a5bc",
   "metadata": {},
   "outputs": [],
   "source": [
    "a_KT_spectrum = KT_based_model.parameterized_KT_model(w_axis)"
   ]
  },
  {
   "cell_type": "code",
   "execution_count": null,
   "id": "d24a1077-4844-4cd4-9ccf-55381cf203ce",
   "metadata": {},
   "outputs": [],
   "source": [
    "type(a_KT_spectrum)"
   ]
  },
  {
   "cell_type": "code",
   "execution_count": null,
   "id": "113fa710-3398-4c73-8b10-32af0f76c059",
   "metadata": {},
   "outputs": [],
   "source": [
    "plt.plot(w_axis, a_KT_spectrum)\n",
    "plt.title('base KT model')\n",
    "plt.show()"
   ]
  },
  {
   "cell_type": "code",
   "execution_count": null,
   "id": "167b3368-0fec-46aa-bd0f-4b090123c288",
   "metadata": {},
   "outputs": [],
   "source": [
    "gt = KT_based_model.Envelop_tfunc(t_axis)\n",
    "gt2 = gt**2"
   ]
  },
  {
   "cell_type": "code",
   "execution_count": null,
   "id": "dd60b27a-64c8-43f4-b9ee-d6685163e7c7",
   "metadata": {},
   "outputs": [],
   "source": [
    "plt.plot(t_axis, gt)\n",
    "plt.title('Envelop function')\n",
    "plt.show()"
   ]
  },
  {
   "cell_type": "code",
   "execution_count": null,
   "id": "d09b3dbd-87c0-489a-928d-e3a945b1bb9c",
   "metadata": {},
   "outputs": [],
   "source": [
    "\n",
    "# create a separable S(w,t)\n",
    "\n",
    "S_matrix = np.outer(a_KT_spectrum, gt2)"
   ]
  },
  {
   "cell_type": "code",
   "execution_count": null,
   "id": "3e5f6bea-0b13-4268-85af-5065cd48af87",
   "metadata": {},
   "outputs": [],
   "source": [
    "fig = plt.figure(figsize=(12, 12))\n",
    "ax = plt.axes(projection='3d')\n",
    "# X, Y = np.meshgrid(w_axis, t)\n",
    "# Z = S_matrix\n",
    "ax.plot_surface(w_axis[:, None], t_axis[None, :], S_matrix)\n",
    "ax.view_init(20, 180)"
   ]
  },
  {
   "cell_type": "markdown",
   "id": "92d12272-9f8e-4cba-bee0-7ab4d1a6447b",
   "metadata": {},
   "source": [
    "### For doing 2D interpolation"
   ]
  },
  {
   "cell_type": "code",
   "execution_count": null,
   "id": "b4de5c30-6d50-4031-9fff-105e0f1d93c5",
   "metadata": {},
   "outputs": [],
   "source": [
    "# Points, values, and then new coordinates\n",
    "import itertools\n",
    "points = list(itertools.product(t_bins, freqs))\n",
    "\n",
    "sample_df = pd.DataFrame()\n",
    "sample_df['X'] = [xy[0] for xy in points]\n",
    "sample_df['Y'] = [xy[1] for xy in points]\n",
    "# sample_df['value'] = values"
   ]
  },
  {
   "cell_type": "code",
   "execution_count": null,
   "id": "a581f945-4faf-489d-8327-4ac00b5319eb",
   "metadata": {},
   "outputs": [],
   "source": [
    "up_reversed = np.flipud(Pxx)\n",
    "values = np.ravel(up_reversed, order='F')"
   ]
  },
  {
   "cell_type": "code",
   "execution_count": null,
   "id": "53c90d42-e541-48de-8142-9e5201d176b3",
   "metadata": {},
   "outputs": [],
   "source": [
    "x_min, x_max = 0.0, sample_df['X'].max()\n",
    "y_min, y_max = 0.0, sample_df['Y'].max()"
   ]
  },
  {
   "cell_type": "code",
   "execution_count": null,
   "id": "656a8393-2d78-43e7-b14c-637d599b9d9a",
   "metadata": {},
   "outputs": [],
   "source": [
    "new_x_coord = np.linspace(x_min, x_max, 2500)\n",
    "new_y_coord = np.linspace(y_min, y_max, 1024)"
   ]
  },
  {
   "cell_type": "code",
   "execution_count": null,
   "id": "b2764ef2-0dcc-48ea-9f8e-9079089c88fd",
   "metadata": {},
   "outputs": [],
   "source": [
    "new_x_coord"
   ]
  },
  {
   "cell_type": "code",
   "execution_count": null,
   "id": "408255fa-ad03-4a1e-b21a-df4150456913",
   "metadata": {},
   "outputs": [],
   "source": [
    "new_y_coord"
   ]
  },
  {
   "cell_type": "code",
   "execution_count": null,
   "id": "bce28edf-0d98-4df4-a180-25331c2947ea",
   "metadata": {},
   "outputs": [],
   "source": [
    "xx, yy = np.meshgrid(new_x_coord, new_y_coord)"
   ]
  },
  {
   "cell_type": "code",
   "execution_count": null,
   "id": "5df36e32-60b4-45fa-81d6-7049a196385d",
   "metadata": {},
   "outputs": [],
   "source": [
    "\n",
    "grid_z0 = griddata(points, values, xi=(xx, yy), method='nearest')"
   ]
  },
  {
   "cell_type": "code",
   "execution_count": null,
   "id": "7f14fdbf-9ec6-4305-8606-fb7fd426ccd7",
   "metadata": {},
   "outputs": [],
   "source": [
    "grid_z1 = np.flipud(grid_z0)"
   ]
  },
  {
   "cell_type": "code",
   "execution_count": null,
   "id": "5a260a89-46e5-41ab-bb34-2bf939b78257",
   "metadata": {},
   "outputs": [],
   "source": [
    "grid_z1.shape"
   ]
  },
  {
   "cell_type": "code",
   "execution_count": null,
   "id": "13c87b81-7f88-4890-80b4-bee9e46dc3c6",
   "metadata": {},
   "outputs": [],
   "source": [
    "# EPSD_show(grid_z0, xx, yy, format='2d')\n",
    "\n",
    "plt.pcolormesh(new_x_coord,\n",
    "               new_y_coord,\n",
    "               grid_z1, \n",
    "               vmin=0, \n",
    "               vmax=np.max(Pxx), \n",
    "               shading='nearest', \n",
    "               cmap='coolwarm')"
   ]
  },
  {
   "cell_type": "code",
   "execution_count": null,
   "id": "97794b14-de23-406f-9716-27b7d528944e",
   "metadata": {},
   "outputs": [],
   "source": [
    "# grid_z0[0, :] == grid_z0[5, :]"
   ]
  },
  {
   "cell_type": "code",
   "execution_count": null,
   "id": "83fc0fde-5f2e-48c9-9938-05ff4bc5a796",
   "metadata": {},
   "outputs": [],
   "source": [
    "# plt.figure(figsize=(10, 10))\n",
    "# plt.imshow(grid_z0)"
   ]
  },
  {
   "cell_type": "code",
   "execution_count": null,
   "id": "1f78da71-0c9a-4bc8-9b94-3c54c501206a",
   "metadata": {},
   "outputs": [],
   "source": [
    "# X, Y = np.meshgrid(t_bins, freqs)\n",
    "# Z = Pxx\n",
    "\n",
    "fig = plt.figure(figsize=(8,8))\n",
    "ax = plt.axes(projection='3d')\n",
    "ax.plot_surface(xx, yy, grid_z1, cmap='viridis')\n",
    "ax.set_title('plot surface');"
   ]
  },
  {
   "cell_type": "code",
   "execution_count": null,
   "id": "30259595-819f-41b4-ac12-0ee7bdc02da1",
   "metadata": {},
   "outputs": [],
   "source": [
    "\n",
    "# we already got the estimated spectra, ie. Pxx\n",
    "# try method3\n",
    "fig = plt.figure(figsize=(12, 4))\n",
    "a_simulation = from_esti_instance.SpecRepsentation(grid_z1, plot='y')\n",
    "\n",
    "# a_simulation = from_esti_instance.SpecRepsentation2(Pxx, t_bins=t_bins, freqs=freqs, plot='y')"
   ]
  },
  {
   "cell_type": "code",
   "execution_count": null,
   "id": "890c2d93-c9ef-49ef-9ecc-ce405b2eb490",
   "metadata": {},
   "outputs": [],
   "source": []
  },
  {
   "cell_type": "code",
   "execution_count": null,
   "id": "1326f456-c4ca-4cc0-ba58-2169388b848a",
   "metadata": {},
   "outputs": [],
   "source": []
  },
  {
   "cell_type": "code",
   "execution_count": null,
   "id": "1da0e5a2-1035-44c6-8fb0-11667fe61d85",
   "metadata": {},
   "outputs": [],
   "source": []
  }
 ],
 "metadata": {
  "kernelspec": {
   "display_name": "Python 3",
   "language": "python",
   "name": "python3"
  },
  "language_info": {
   "codemirror_mode": {
    "name": "ipython",
    "version": 3
   },
   "file_extension": ".py",
   "mimetype": "text/x-python",
   "name": "python",
   "nbconvert_exporter": "python",
   "pygments_lexer": "ipython3",
   "version": "3.8.8"
  }
 },
 "nbformat": 4,
 "nbformat_minor": 5
}
