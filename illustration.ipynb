{
 "cells": [
  {
   "cell_type": "code",
   "execution_count": 1,
   "id": "fc1f6c4b-d1eb-4cd1-b4e3-bb1aa4684af5",
   "metadata": {},
   "outputs": [],
   "source": [
    "from KT_model import *\n",
    "from SpecRep import SRM, getSww_from_a_model"
   ]
  },
  {
   "cell_type": "code",
   "execution_count": 2,
   "id": "1409373d-26ee-444f-a34a-e6fa0ea1d055",
   "metadata": {},
   "outputs": [],
   "source": [
    "import numpy as np\n",
    "import matplotlib.pyplot as plt"
   ]
  },
  {
   "cell_type": "code",
   "execution_count": 3,
   "id": "762f3364-79e2-4aba-ad4f-8e7543648f00",
   "metadata": {},
   "outputs": [],
   "source": [
    "a_simu_instance = SRM(wu=100, N1=1024, fs=50, duration=16)"
   ]
  },
  {
   "cell_type": "code",
   "execution_count": 4,
   "id": "cdd43a7f-3da9-46fc-90f1-85b1cfacb874",
   "metadata": {},
   "outputs": [
    {
     "name": "stdout",
     "output_type": "stream",
     "text": [
      "the shape of the w axis: (1024,)\n",
      "the shape of the time axis: (800,)\n"
     ]
    }
   ],
   "source": [
    "# Take a look at the shape\n",
    "print(\"the shape of the w axis:\", a_simu_instance.w_axis_4simu.shape)\n",
    "print(\"the shape of the time axis:\", a_simu_instance.t_axis_4simu.shape)"
   ]
  },
  {
   "cell_type": "code",
   "execution_count": 5,
   "id": "85f2734b-df66-4bc7-812f-7a67528801d9",
   "metadata": {},
   "outputs": [
    {
     "data": {
      "text/plain": [
       "800"
      ]
     },
     "execution_count": 5,
     "metadata": {},
     "output_type": "execute_result"
    }
   ],
   "source": [
    "a_simu_instance.t_axis_4simu.shape[0]"
   ]
  },
  {
   "cell_type": "markdown",
   "id": "cc4ade0b-e7e1-4169-92a6-0e89683d27ea",
   "metadata": {
    "tags": [],
    "toc-hr-collapsed": true
   },
   "source": [
    "#### step-by-step implementation "
   ]
  },
  {
   "cell_type": "code",
   "execution_count": null,
   "id": "40e1333a-c35b-4d5f-8634-5e6da1f509f0",
   "metadata": {},
   "outputs": [],
   "source": [
    "a_KT_spectrum = KT_based_model.parameterized_KT_model(w_axis)"
   ]
  },
  {
   "cell_type": "code",
   "execution_count": null,
   "id": "c0218f3a-55bf-40e1-a507-f51f0c33fd7d",
   "metadata": {},
   "outputs": [],
   "source": [
    "type(a_KT_spectrum)"
   ]
  },
  {
   "cell_type": "code",
   "execution_count": null,
   "id": "652a8cad-0f49-4631-8ff7-c82c44a2fe19",
   "metadata": {},
   "outputs": [],
   "source": [
    "plt.plot(w_axis, a_KT_spectrum)\n",
    "plt.title('base KT model')\n",
    "plt.show()"
   ]
  },
  {
   "cell_type": "code",
   "execution_count": null,
   "id": "c9894716-2fff-4ed6-b8b2-7015ee76836c",
   "metadata": {},
   "outputs": [],
   "source": [
    "gt = KT_based_model.Envelop_tfunc(t_axis)\n",
    "gt2 = gt**2"
   ]
  },
  {
   "cell_type": "code",
   "execution_count": null,
   "id": "7b6a572d-653e-48a8-848b-8cc5b78a8d53",
   "metadata": {},
   "outputs": [],
   "source": [
    "plt.plot(t_axis, gt)\n",
    "plt.title('Envelop function')\n",
    "plt.show()"
   ]
  },
  {
   "cell_type": "code",
   "execution_count": null,
   "id": "7e6bbab4-98ab-445d-9f6e-c1eb430a104a",
   "metadata": {},
   "outputs": [],
   "source": [
    "\n",
    "# create a separable S(w,t)\n",
    "\n",
    "S_matrix = np.outer(a_KT_spectrum, gt2)"
   ]
  },
  {
   "cell_type": "code",
   "execution_count": null,
   "id": "a7fe2c22-e8fa-4c5f-90c6-7ef388b5ff58",
   "metadata": {},
   "outputs": [],
   "source": [
    "fig = plt.figure(figsize=(12, 12))\n",
    "ax = plt.axes(projection='3d')\n",
    "# X, Y = np.meshgrid(w_axis, t)\n",
    "# Z = S_matrix\n",
    "ax.plot_surface(w_axis[:, None], t_axis[None, :], S_matrix)\n",
    "ax.view_init(20, 180)"
   ]
  },
  {
   "cell_type": "markdown",
   "id": "498d6226-e109-495d-9664-cd236f1ba500",
   "metadata": {},
   "source": [
    "#### Shortened implementation"
   ]
  },
  {
   "cell_type": "markdown",
   "id": "faade8c6-df50-4f53-b54b-862cb92e9709",
   "metadata": {},
   "source": [
    "Recall what we've done:\n",
    "1. create the `w_axis` and `t_axis`;\n",
    "2. create the separable spectrum;\n",
    "3. generate simulations"
   ]
  },
  {
   "cell_type": "markdown",
   "id": "8602426e-0b8d-418d-8f24-b46405e2b385",
   "metadata": {},
   "source": [
    "#### A KT stationary model"
   ]
  },
  {
   "cell_type": "code",
   "execution_count": null,
   "id": "89547c91-5aa0-4dd1-b6e7-4a1c4c5a847d",
   "metadata": {},
   "outputs": [],
   "source": [
    "Sww = getSww_from_a_model(parameterized_KT_model, a_simu_instance.w_axis_4simu)"
   ]
  },
  {
   "cell_type": "code",
   "execution_count": null,
   "id": "c8fb4126-41da-4c40-8567-0bdb176e9356",
   "metadata": {},
   "outputs": [],
   "source": [
    "Sww.shape"
   ]
  },
  {
   "cell_type": "code",
   "execution_count": null,
   "id": "f18d4e37-34f3-48a8-a6dc-c16bd925bd48",
   "metadata": {},
   "outputs": [],
   "source": [
    "sta_KT_simulation_amp = a_simu_instance.SpecRepsentation(Sww, plot='y')"
   ]
  },
  {
   "cell_type": "markdown",
   "id": "1020f630-2f8c-4458-9763-029bbdbcf7b0",
   "metadata": {},
   "source": [
    "#### A separatble non-stationary spectra"
   ]
  },
  {
   "cell_type": "code",
   "execution_count": 6,
   "id": "d1d2acf4-7c43-41d9-8727-93a61fab4263",
   "metadata": {},
   "outputs": [],
   "source": [
    "Swt_spectra = nonsta_model(a_simu_instance.w_axis_4simu, a_simu_instance.t_axis_4simu)"
   ]
  },
  {
   "cell_type": "code",
   "execution_count": 7,
   "id": "105fb9c4-0894-4bea-9465-46f8e5ae13e9",
   "metadata": {},
   "outputs": [
    {
     "data": {
      "text/plain": [
       "(1024, 800)"
      ]
     },
     "execution_count": 7,
     "metadata": {},
     "output_type": "execute_result"
    }
   ],
   "source": [
    "Swt_spectra.shape"
   ]
  },
  {
   "cell_type": "code",
   "execution_count": null,
   "id": "5594a17c-86a3-49ef-937c-61be09c45831",
   "metadata": {},
   "outputs": [],
   "source": [
    "# with the spectra 'S(w, t)', let's show it in 3d plots"
   ]
  },
  {
   "cell_type": "code",
   "execution_count": null,
   "id": "119b0319-57b9-49d1-a3c9-e25008348214",
   "metadata": {},
   "outputs": [],
   "source": []
  },
  {
   "cell_type": "code",
   "execution_count": null,
   "id": "9990b09e-7f82-4000-be46-aed23d4d9fa5",
   "metadata": {},
   "outputs": [],
   "source": []
  },
  {
   "cell_type": "code",
   "execution_count": null,
   "id": "2570cd74-3772-4d0a-8e74-840c6bf1353f",
   "metadata": {},
   "outputs": [],
   "source": []
  },
  {
   "cell_type": "code",
   "execution_count": null,
   "id": "b631e253-819a-44f2-9388-3674fa173348",
   "metadata": {},
   "outputs": [],
   "source": [
    "a_nonsta_simulation = a_simu_instance.SpecRepsentation(Swt_spectra, plot='y')"
   ]
  },
  {
   "cell_type": "code",
   "execution_count": null,
   "id": "5bc887ba-d232-4e19-9a3f-e30c6abadc12",
   "metadata": {},
   "outputs": [],
   "source": []
  },
  {
   "cell_type": "code",
   "execution_count": null,
   "id": "86e45824-9146-427c-8a31-7e4a8fda6be8",
   "metadata": {},
   "outputs": [],
   "source": []
  }
 ],
 "metadata": {
  "kernelspec": {
   "display_name": "Python 3",
   "language": "python",
   "name": "python3"
  },
  "language_info": {
   "codemirror_mode": {
    "name": "ipython",
    "version": 3
   },
   "file_extension": ".py",
   "mimetype": "text/x-python",
   "name": "python",
   "nbconvert_exporter": "python",
   "pygments_lexer": "ipython3",
   "version": "3.8.8"
  }
 },
 "nbformat": 4,
 "nbformat_minor": 5
}
